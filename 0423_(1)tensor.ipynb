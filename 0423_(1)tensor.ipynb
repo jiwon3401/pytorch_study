{
  "nbformat": 4,
  "nbformat_minor": 0,
  "metadata": {
    "colab": {
      "provenance": []
    },
    "kernelspec": {
      "name": "python3",
      "display_name": "Python 3"
    },
    "language_info": {
      "name": "python"
    },
    "accelerator": "GPU"
  },
  "cells": [
    {
      "cell_type": "code",
      "execution_count": null,
      "metadata": {
        "id": "KfPpessAIqHI"
      },
      "outputs": [],
      "source": [
        "import torch\n",
        "import numpy as np"
      ]
    },
    {
      "cell_type": "markdown",
      "source": [
        "* 텐서 초기화하기\n",
        "1. 데이터로부터 직접 생성하기"
      ],
      "metadata": {
        "id": "RqF_6gTcI4Kb"
      }
    },
    {
      "cell_type": "code",
      "source": [
        "data = [[1,2],[3,4]]\n",
        "x_data = torch.tensor(data)"
      ],
      "metadata": {
        "id": "og-DRr2iI1kM"
      },
      "execution_count": null,
      "outputs": []
    },
    {
      "cell_type": "code",
      "source": [
        "print(data)\n",
        "print(x_data)"
      ],
      "metadata": {
        "colab": {
          "base_uri": "https://localhost:8080/"
        },
        "id": "kI0DqCorJByO",
        "outputId": "fdef1b8b-1b6e-4594-a8d9-13b2478f64f3"
      },
      "execution_count": null,
      "outputs": [
        {
          "output_type": "stream",
          "name": "stdout",
          "text": [
            "[[1, 2], [3, 4]]\n",
            "tensor([[1, 2],\n",
            "        [3, 4]])\n"
          ]
        }
      ]
    },
    {
      "cell_type": "markdown",
      "source": [
        "---\n",
        "2. numpy 배열로부터 생성하기"
      ],
      "metadata": {
        "id": "ZKnHsD78JGvi"
      }
    },
    {
      "cell_type": "code",
      "source": [
        "np_array = np.array(data)\n",
        "x_np = torch.from_numpy(np_array)\n",
        "print(np_array)\n",
        "print(x_np)"
      ],
      "metadata": {
        "colab": {
          "base_uri": "https://localhost:8080/"
        },
        "id": "Q4nYo-glJC7T",
        "outputId": "1a557e85-7699-4997-b618-3aa2542609f4"
      },
      "execution_count": null,
      "outputs": [
        {
          "output_type": "stream",
          "name": "stdout",
          "text": [
            "[[1 2]\n",
            " [3 4]]\n",
            "tensor([[1, 2],\n",
            "        [3, 4]])\n"
          ]
        }
      ]
    },
    {
      "cell_type": "markdown",
      "source": [
        "----\n",
        "3. 다른 텐서로부터 생성하기 :  \n",
        "명시적으로 재정의(override) 하지 않는다면, 인자로 주어진 텐서의 속성(shape, datatype)을 유지함"
      ],
      "metadata": {
        "id": "7m-iv7x_JjzO"
      }
    },
    {
      "cell_type": "code",
      "source": [
        "x_ones = torch.ones_like(x_data)\n",
        "print(f\"Ones Tensor: \\n {x_ones} \\n\")\n",
        "\n",
        "x_rand = torch.rand_like(x_data, dtype=torch.float)\n",
        "print(f\"Random Tensor: \\n {x_rand} \\n\")"
      ],
      "metadata": {
        "colab": {
          "base_uri": "https://localhost:8080/"
        },
        "id": "m9YM8I_0JMKp",
        "outputId": "4b928f01-a5f6-4184-8f63-6ef7f53b5706"
      },
      "execution_count": null,
      "outputs": [
        {
          "output_type": "stream",
          "name": "stdout",
          "text": [
            "Ones Tensor: \n",
            " tensor([[1, 1],\n",
            "        [1, 1]]) \n",
            "\n",
            "Random Tensor: \n",
            " tensor([[0.4842, 0.3703],\n",
            "        [0.0415, 0.3104]]) \n",
            "\n"
          ]
        }
      ]
    },
    {
      "cell_type": "markdown",
      "source": [
        "-------"
      ],
      "metadata": {
        "id": "y-r4pv3jK3Ed"
      }
    },
    {
      "cell_type": "markdown",
      "source": [
        "### 텐서의 속성(Attribute)"
      ],
      "metadata": {
        "id": "lIx4BV5yK23R"
      }
    },
    {
      "cell_type": "code",
      "source": [
        "tensor = torch.rand(3,4,2)\n",
        "print(f\"Tensor: {tensor}\\n\")\n",
        "\n",
        "print(f\"Tensor shape: {tensor.shape}\\n\")\n",
        "print(f\"Tensor datatype: {tensor.dtype}\\n\")\n",
        "print(f\"Device tensor is stored on: {tensor.device}\")"
      ],
      "metadata": {
        "colab": {
          "base_uri": "https://localhost:8080/"
        },
        "id": "IH7sZuaxKmJW",
        "outputId": "25dd81b1-6010-42de-a7dc-378892caacfb"
      },
      "execution_count": null,
      "outputs": [
        {
          "output_type": "stream",
          "name": "stdout",
          "text": [
            "Tensor: tensor([[[0.8067, 0.0475],\n",
            "         [0.0706, 0.2336],\n",
            "         [0.7824, 0.0194],\n",
            "         [0.0674, 0.9854]],\n",
            "\n",
            "        [[0.5315, 0.5434],\n",
            "         [0.0805, 0.6221],\n",
            "         [0.7358, 0.4940],\n",
            "         [0.4321, 0.5250]],\n",
            "\n",
            "        [[0.4799, 0.5332],\n",
            "         [0.3326, 0.2292],\n",
            "         [0.2177, 0.3325],\n",
            "         [0.8750, 0.6532]]])\n",
            "\n",
            "Tensor shape: torch.Size([3, 4, 2])\n",
            "\n",
            "Tensor datatype: torch.float32\n",
            "\n",
            "Device tensor is stored on: cpu\n"
          ]
        }
      ]
    },
    {
      "cell_type": "markdown",
      "source": [
        "----------"
      ],
      "metadata": {
        "id": "AKy7EyM4Ladm"
      }
    },
    {
      "cell_type": "markdown",
      "source": [
        "### 텐서 연산(Operation)\n"
      ],
      "metadata": {
        "id": "t8DZCqxULVjB"
      }
    },
    {
      "cell_type": "code",
      "source": [
        "#gpu가 존재하면 텐서를 이동\n",
        "if torch.cuda.is_available():\n",
        "  tensor = tensor.to('cuda')\n",
        "  print(f\"Device tensor is stored on {tensor.device}\")"
      ],
      "metadata": {
        "colab": {
          "base_uri": "https://localhost:8080/"
        },
        "id": "aOx879QAK9mC",
        "outputId": "fdc4741f-17f9-48fa-b2ac-afb4def2e3e5"
      },
      "execution_count": null,
      "outputs": [
        {
          "output_type": "stream",
          "name": "stdout",
          "text": [
            "Device tensor is stored on cuda:0\n"
          ]
        }
      ]
    },
    {
      "cell_type": "code",
      "source": [
        "tensor = torch.ones(4,4)\n",
        "print(tensor)"
      ],
      "metadata": {
        "colab": {
          "base_uri": "https://localhost:8080/"
        },
        "id": "3ver7LveLmH_",
        "outputId": "5db30a50-9fd4-4d77-9b02-3ba22de16b2f"
      },
      "execution_count": null,
      "outputs": [
        {
          "output_type": "stream",
          "name": "stdout",
          "text": [
            "tensor([[1., 1., 1., 1.],\n",
            "        [1., 1., 1., 1.],\n",
            "        [1., 1., 1., 1.],\n",
            "        [1., 1., 1., 1.]])\n"
          ]
        }
      ]
    },
    {
      "cell_type": "code",
      "source": [
        "tensor[:,1] = 0\n",
        "tensor[:,2] = 3\n",
        "print(tensor)"
      ],
      "metadata": {
        "colab": {
          "base_uri": "https://localhost:8080/"
        },
        "id": "CNn4ACA5MCvW",
        "outputId": "678d10ce-dc7a-4f52-cab0-656467d93355"
      },
      "execution_count": null,
      "outputs": [
        {
          "output_type": "stream",
          "name": "stdout",
          "text": [
            "tensor([[1., 0., 3., 1.],\n",
            "        [1., 0., 3., 1.],\n",
            "        [1., 0., 3., 1.],\n",
            "        [1., 0., 3., 1.]])\n"
          ]
        }
      ]
    },
    {
      "cell_type": "markdown",
      "source": [
        "* 텐서 합치기"
      ],
      "metadata": {
        "id": "UQ-8_XwsMRc3"
      }
    },
    {
      "cell_type": "code",
      "source": [
        "t1 = torch.cat([tensor,tensor,tensor], dim=1)\n",
        "print(t1)"
      ],
      "metadata": {
        "colab": {
          "base_uri": "https://localhost:8080/"
        },
        "id": "4ZZcHLv-MRLG",
        "outputId": "18913ac3-da64-4f56-eb5d-3c88b752e7af"
      },
      "execution_count": null,
      "outputs": [
        {
          "output_type": "stream",
          "name": "stdout",
          "text": [
            "tensor([[1., 0., 3., 1., 1., 0., 3., 1., 1., 0., 3., 1.],\n",
            "        [1., 0., 3., 1., 1., 0., 3., 1., 1., 0., 3., 1.],\n",
            "        [1., 0., 3., 1., 1., 0., 3., 1., 1., 0., 3., 1.],\n",
            "        [1., 0., 3., 1., 1., 0., 3., 1., 1., 0., 3., 1.]])\n"
          ]
        }
      ]
    },
    {
      "cell_type": "code",
      "source": [
        "t2 = torch.cat([tensor,tensor,tensor], dim=0)\n",
        "print(t2)"
      ],
      "metadata": {
        "colab": {
          "base_uri": "https://localhost:8080/"
        },
        "id": "JPj5NyRSMF19",
        "outputId": "8456767f-f665-4283-9cdd-f2943edef554"
      },
      "execution_count": null,
      "outputs": [
        {
          "output_type": "stream",
          "name": "stdout",
          "text": [
            "tensor([[1., 0., 3., 1.],\n",
            "        [1., 0., 3., 1.],\n",
            "        [1., 0., 3., 1.],\n",
            "        [1., 0., 3., 1.],\n",
            "        [1., 0., 3., 1.],\n",
            "        [1., 0., 3., 1.],\n",
            "        [1., 0., 3., 1.],\n",
            "        [1., 0., 3., 1.],\n",
            "        [1., 0., 3., 1.],\n",
            "        [1., 0., 3., 1.],\n",
            "        [1., 0., 3., 1.],\n",
            "        [1., 0., 3., 1.]])\n"
          ]
        }
      ]
    },
    {
      "cell_type": "markdown",
      "source": [
        "* 텐서 곱하기 \n",
        " -  element-wise product \n",
        " - matrix multiplication"
      ],
      "metadata": {
        "id": "lnibDU0rMdxH"
      }
    },
    {
      "cell_type": "code",
      "source": [
        "#element-wise product\n",
        "print(f\"tensor.mul(tensor) \\n {tensor.mul(tensor)} \\n\")\n",
        "print(f\"tensor*tensor \\n {tensor * tensor}\")"
      ],
      "metadata": {
        "colab": {
          "base_uri": "https://localhost:8080/"
        },
        "id": "BJ-CSccJMcN-",
        "outputId": "b4da54b0-59af-4cc5-c07b-e517acfff859"
      },
      "execution_count": null,
      "outputs": [
        {
          "output_type": "stream",
          "name": "stdout",
          "text": [
            "tensor.mul(tensor) \n",
            " tensor([[1., 0., 9., 1.],\n",
            "        [1., 0., 9., 1.],\n",
            "        [1., 0., 9., 1.],\n",
            "        [1., 0., 9., 1.]]) \n",
            "\n",
            "tensor*tensor \n",
            " tensor([[1., 0., 9., 1.],\n",
            "        [1., 0., 9., 1.],\n",
            "        [1., 0., 9., 1.],\n",
            "        [1., 0., 9., 1.]])\n"
          ]
        }
      ]
    },
    {
      "cell_type": "code",
      "source": [
        "#matrix multiplication\n",
        "print(f\"tensor.matmul(tensor.T) \\n {tensor.matmul(tensor.T)} \\n\")\n",
        "print(f\"tensor @ tensor.T \\n {tensor @ tensor.T}\")"
      ],
      "metadata": {
        "colab": {
          "base_uri": "https://localhost:8080/"
        },
        "id": "S4fZTOEtMx4N",
        "outputId": "4fa0c582-716b-4e6a-a52f-9ef895680a89"
      },
      "execution_count": null,
      "outputs": [
        {
          "output_type": "stream",
          "name": "stdout",
          "text": [
            "tensor.matmul(tensor.T) \n",
            " tensor([[11., 11., 11., 11.],\n",
            "        [11., 11., 11., 11.],\n",
            "        [11., 11., 11., 11.],\n",
            "        [11., 11., 11., 11.]]) \n",
            "\n",
            "tensor @ tensor.T \n",
            " tensor([[11., 11., 11., 11.],\n",
            "        [11., 11., 11., 11.],\n",
            "        [11., 11., 11., 11.],\n",
            "        [11., 11., 11., 11.]])\n"
          ]
        }
      ]
    },
    {
      "cell_type": "markdown",
      "source": [
        "* 바꿔치기 연산(in-place)  \n",
        "  접미사 _ 를 갖는 연산들은 바꿔치기(in-place)연산임  \n",
        "  x.copy_() 나 x.t_() 는 x를 변경함 \n",
        "\n",
        "* 메모리를 일부 절약하긴 하지만, 기록(history)이 즉시 삭제되어 도함수(derivative) 계산에 문제가 발생할 수 있으므로 권장하지 않음 !!!! "
      ],
      "metadata": {
        "id": "LFqnatluNLm9"
      }
    },
    {
      "cell_type": "code",
      "source": [
        "print(f\"{tensor} \\n\")\n",
        "tensor.add_(5)\n",
        "print(f\"tensor.add_한것 \\n {tensor} \")"
      ],
      "metadata": {
        "colab": {
          "base_uri": "https://localhost:8080/"
        },
        "id": "dycYYougNAE2",
        "outputId": "e53d25d4-5c58-4e30-97f2-b34046b73c58"
      },
      "execution_count": null,
      "outputs": [
        {
          "output_type": "stream",
          "name": "stdout",
          "text": [
            "tensor([[16., 15., 18., 16.],\n",
            "        [16., 15., 18., 16.],\n",
            "        [16., 15., 18., 16.],\n",
            "        [16., 15., 18., 16.]]) \n",
            "\n",
            "tensor.add_한것 \n",
            " tensor([[21., 20., 23., 21.],\n",
            "        [21., 20., 23., 21.],\n",
            "        [21., 20., 23., 21.],\n",
            "        [21., 20., 23., 21.]]) \n"
          ]
        }
      ]
    },
    {
      "cell_type": "markdown",
      "source": [
        "----"
      ],
      "metadata": {
        "id": "200V3PWHPpLC"
      }
    },
    {
      "cell_type": "markdown",
      "source": [
        "### numpy 변환\n",
        "cpu상의 텐서와 numpy배열은 메모리 공간을 공유하기 때문에, 하나를 변경하면 다른 하나도 변경됨!"
      ],
      "metadata": {
        "id": "eHCSC3BLPo_5"
      }
    },
    {
      "cell_type": "code",
      "source": [
        "t = torch.ones(2,5)\n",
        "print(t, \"\\n\")\n",
        "print(f\"numpy: \\n {t.numpy()} \")"
      ],
      "metadata": {
        "colab": {
          "base_uri": "https://localhost:8080/"
        },
        "id": "zx53uIcaPMHM",
        "outputId": "3d8229af-b485-4048-fa9e-ee111d46e035"
      },
      "execution_count": null,
      "outputs": [
        {
          "output_type": "stream",
          "name": "stdout",
          "text": [
            "tensor([[1., 1., 1., 1., 1.],\n",
            "        [1., 1., 1., 1., 1.]]) \n",
            "\n",
            "numpy: \n",
            " [[1. 1. 1. 1. 1.]\n",
            " [1. 1. 1. 1. 1.]] \n"
          ]
        }
      ]
    },
    {
      "cell_type": "code",
      "source": [
        "t.add_(1)\n",
        "print(f\"t: \\n{t}\\n\")\n",
        "print(f\"n: \\n{t.numpy()}\")"
      ],
      "metadata": {
        "colab": {
          "base_uri": "https://localhost:8080/"
        },
        "id": "ht8qMpfePzjt",
        "outputId": "5c908b2c-0333-4c5c-ab43-1de2f6a22c39"
      },
      "execution_count": null,
      "outputs": [
        {
          "output_type": "stream",
          "name": "stdout",
          "text": [
            "t: \n",
            "tensor([[4., 4., 4., 4., 4.],\n",
            "        [4., 4., 4., 4., 4.]])\n",
            "\n",
            "n: \n",
            "[[4. 4. 4. 4. 4.]\n",
            " [4. 4. 4. 4. 4.]]\n"
          ]
        }
      ]
    },
    {
      "cell_type": "markdown",
      "source": [
        "### numpy배열을 텐서로 변환하기"
      ],
      "metadata": {
        "id": "ib-142IZQd_3"
      }
    },
    {
      "cell_type": "code",
      "source": [
        "n = np.ones(5)\n",
        "t = torch.from_numpy(n)\n",
        "print(n)\n",
        "print(t)\n",
        "\n",
        "np.add(n,1, out=n)\n",
        "print(f\"\\nt:  {t}\")\n",
        "print(f\"n:  {n}\")"
      ],
      "metadata": {
        "colab": {
          "base_uri": "https://localhost:8080/"
        },
        "id": "jVoSsexmQU00",
        "outputId": "2355359c-3e4c-413c-d044-c690b015cc30"
      },
      "execution_count": null,
      "outputs": [
        {
          "output_type": "stream",
          "name": "stdout",
          "text": [
            "[1. 1. 1. 1. 1.]\n",
            "tensor([1., 1., 1., 1., 1.], dtype=torch.float64)\n",
            "\n",
            "t:  tensor([2., 2., 2., 2., 2.], dtype=torch.float64)\n",
            "n:  [2. 2. 2. 2. 2.]\n"
          ]
        }
      ]
    }
  ]
}